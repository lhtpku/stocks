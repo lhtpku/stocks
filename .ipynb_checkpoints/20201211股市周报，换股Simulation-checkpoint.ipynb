{
 "cells": [
  {
   "cell_type": "code",
   "execution_count": 45,
   "metadata": {},
   "outputs": [
    {
     "name": "stdout",
     "output_type": "stream",
     "text": [
      "换股N次，平均表现如下\n",
      "换1次收益乘数为2.27, 标准差为1.08, 年化收益：31.33%\n",
      "换2次收益乘数为2.10, 标准差为0.79, 年化收益：28.04%\n",
      "换3次收益乘数为2.07, 标准差为0.64, 年化收益：27.41%\n",
      "换4次收益乘数为2.00, 标准差为0.56, 年化收益：26.08%\n",
      "换5次收益乘数为2.01, 标准差为0.50, 年化收益：26.24%\n",
      "换6次收益乘数为2.00, 标准差为0.47, 年化收益：25.91%\n",
      "换7次收益乘数为1.99, 标准差为0.42, 年化收益：25.88%\n",
      "换8次收益乘数为1.99, 标准差为0.40, 年化收益：25.84%\n",
      "换9次收益乘数为1.98, 标准差为0.38, 年化收益：25.56%\n"
     ]
    }
   ],
   "source": [
    "import numpy as np\n",
    "np.random.seed(42)\n",
    "gaoling_return = np.array([5,3,3,3,2.5,2,2,2,1.5,0.7]) ### 高瓴股票三年收益乘数的分布估计\n",
    "gaoling_return = np.array([4.5,3,3,2.5,2.5,2,1.8,1.5,1.2,0.5]) ### 高瓴股票三年收益乘数的分布估计\n",
    "# gaoling_return = np.array([4.5,3,2.5,2.5,2.5,1.7,1.8,1.5,1,0.7]) ### 高瓴股票三年收益乘数的分布估计\n",
    "assert gaoling_return.shape == (10,)\n",
    "# print('完全不换股，平均表现：')\n",
    "# multiplier_out(gaoling_return.mean())\n",
    "# print()\n",
    "print('换股N次，平均表现如下')\n",
    "simu_times = 5000\n",
    "for sub_sample in range(1, 10):\n",
    "    sub_return = np.power(gaoling_return, 1/sub_sample)\n",
    "    montecarlo_portfolio = np.random.choice(sub_return, size=(simu_times,sub_sample))\n",
    "    tmp = np.prod(montecarlo_portfolio, axis=1)\n",
    "    multiplier_out(tmp.mean()-(sub_sample-1)*0.0015,tmp.std(),sub_sample)"
   ]
  },
  {
   "cell_type": "markdown",
   "metadata": {},
   "source": [
    "# Intuition\n",
    "\n",
    "## 换股是不理性的，换越多次收益越低，这个在数学上可以严格的证明出来。"
   ]
  },
  {
   "cell_type": "code",
   "execution_count": 65,
   "metadata": {},
   "outputs": [],
   "source": [
    "def multiplier_out(x,y,k):\n",
    "    tmp = '换%s次'%(k-1)\n",
    "    tmp =tmp + '收益乘数为%.2f, 标准差为%.2f, 年化收益：%s' %(x, y, format(np.power(x, 1/3)-1, '.2%'))\n",
    "    print(tmp)"
   ]
  },
  {
   "cell_type": "code",
   "execution_count": 85,
   "metadata": {},
   "outputs": [
    {
     "name": "stdout",
     "output_type": "stream",
     "text": [
      "持股1, 换0次: 收益乘数为2.25, 标准差为1.08, 年化收益：31.10%\n",
      "持股1, 换4次: 收益乘数为2.01, 标准差为0.50, 年化收益：26.15%\n",
      "持股1, 换8次: 收益乘数为1.97, 标准差为0.37, 年化收益：25.29%\n",
      "\n",
      "持股5, 换0次: 收益乘数为2.24, 标准差为0.48, 年化收益：30.81%\n",
      "持股5, 换4次: 收益乘数为2.01, 标准差为0.23, 年化收益：26.19%\n",
      "持股5, 换8次: 收益乘数为1.98, 标准差为0.17, 年化收益：25.63%\n",
      "\n",
      "持股9, 换0次: 收益乘数为2.24, 标准差为0.35, 年化收益：30.88%\n",
      "持股9, 换4次: 收益乘数为2.01, 标准差为0.17, 年化收益：26.23%\n",
      "持股9, 换8次: 收益乘数为1.98, 标准差为0.12, 年化收益：25.60%\n",
      "\n"
     ]
    }
   ],
   "source": [
    "def multiplier_out(x,y,n,k):\n",
    "    tmp = '持股%s, 换%s次: '%(n, k-1)\n",
    "    tmp =tmp + '收益乘数为%.2f, 标准差为%.2f, 年化收益：%s' %(x, y, format(np.power(x, 1/3)-1, '.2%'))\n",
    "    print(tmp)\n",
    "    \n",
    "import numpy as np\n",
    "np.random.seed(42)\n",
    "# gaoling_return = np.array([5,3,3,3,2.5,2,2,2,1.5,0.7]) ### 高瓴股票三年收益乘数的分布估计\n",
    "gaoling_return = np.array([4.5,3,3,2.5,2.5,2,1.8,1.5,1.2,0.5]) ### 高瓴股票三年收益乘数的分布估计\n",
    "assert gaoling_return.shape == (10,)\n",
    "\n",
    "simu_times = 5000\n",
    "for n_stocks in [1,5,9]:\n",
    "    for change_times in [1,5,9]:\n",
    "        sub_return = np.power(gaoling_return, 1/change_times)\n",
    "        simu_shape = (simu_times,n_stocks,change_times)\n",
    "        montecarlo_portfolio = np.random.choice(sub_return, size = simu_shape)\n",
    "        tmp = np.mean(np.prod(montecarlo_portfolio, axis=2), axis=1)\n",
    "        multiplier_out(tmp.mean()-(sub_sample-1)*0.0015,tmp.std(),n_stocks,change_times)\n",
    "    print()"
   ]
  },
  {
   "cell_type": "code",
   "execution_count": 76,
   "metadata": {},
   "outputs": [
    {
     "data": {
      "text/plain": [
       "-8.881784197001253e-18"
      ]
     },
     "execution_count": 76,
     "metadata": {},
     "output_type": "execute_result"
    }
   ],
   "source": [
    "gaoling_return = np.array([4.5,3,3,2.5,2.5,2,1.8,1.5,1.2,0.5]) ### 高瓴股票三年收益乘数的分\n",
    "(gaoling_return - gaoling_return[:, np.newaxis]).mean()"
   ]
  },
  {
   "cell_type": "code",
   "execution_count": null,
   "metadata": {},
   "outputs": [],
   "source": []
  },
  {
   "cell_type": "code",
   "execution_count": null,
   "metadata": {},
   "outputs": [],
   "source": []
  },
  {
   "cell_type": "code",
   "execution_count": null,
   "metadata": {},
   "outputs": [],
   "source": []
  }
 ],
 "metadata": {
  "kernelspec": {
   "display_name": "Python 3",
   "language": "python",
   "name": "python3"
  },
  "language_info": {
   "codemirror_mode": {
    "name": "ipython",
    "version": 3
   },
   "file_extension": ".py",
   "mimetype": "text/x-python",
   "name": "python",
   "nbconvert_exporter": "python",
   "pygments_lexer": "ipython3",
   "version": "3.7.4"
  },
  "toc": {
   "base_numbering": 1,
   "nav_menu": {},
   "number_sections": true,
   "sideBar": true,
   "skip_h1_title": false,
   "title_cell": "Table of Contents",
   "title_sidebar": "Contents",
   "toc_cell": false,
   "toc_position": {},
   "toc_section_display": true,
   "toc_window_display": false
  }
 },
 "nbformat": 4,
 "nbformat_minor": 2
}
