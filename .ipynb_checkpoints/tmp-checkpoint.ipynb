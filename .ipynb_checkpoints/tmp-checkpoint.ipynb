{
 "cells": [
  {
   "cell_type": "code",
   "execution_count": 1,
   "metadata": {},
   "outputs": [],
   "source": [
    "import numpy as np\n",
    "np.random.seed(42)"
   ]
  },
  {
   "cell_type": "code",
   "execution_count": 45,
   "metadata": {},
   "outputs": [
    {
     "data": {
      "text/plain": [
       "array([[[ 1,  2],\n",
       "        [ 3,  4],\n",
       "        [ 5,  6]],\n",
       "\n",
       "       [[ 7,  8],\n",
       "        [ 9, 10],\n",
       "        [11, 12]]])"
      ]
     },
     "execution_count": 45,
     "metadata": {},
     "output_type": "execute_result"
    }
   ],
   "source": [
    "a = np.arange(1,13).reshape(2,3,2)\n",
    "a"
   ]
  },
  {
   "cell_type": "code",
   "execution_count": 46,
   "metadata": {},
   "outputs": [
    {
     "data": {
      "text/plain": [
       "array([[[  1,   2],\n",
       "        [  3,  12],\n",
       "        [  5,  30]],\n",
       "\n",
       "       [[  7,  56],\n",
       "        [  9,  90],\n",
       "        [ 11, 132]]])"
      ]
     },
     "execution_count": 46,
     "metadata": {},
     "output_type": "execute_result"
    }
   ],
   "source": [
    "a = a.cumprod(axis=-1)\n",
    "a"
   ]
  },
  {
   "cell_type": "code",
   "execution_count": 47,
   "metadata": {},
   "outputs": [
    {
     "data": {
      "text/plain": [
       "array([[  2,  12,  30],\n",
       "       [ 56,  90, 132]])"
      ]
     },
     "execution_count": 47,
     "metadata": {},
     "output_type": "execute_result"
    }
   ],
   "source": [
    "a[:,:, -1]"
   ]
  },
  {
   "cell_type": "code",
   "execution_count": 56,
   "metadata": {},
   "outputs": [
    {
     "data": {
      "text/plain": [
       "array([ 1, 12, 30,  7,  9, 11])"
      ]
     },
     "execution_count": 56,
     "metadata": {},
     "output_type": "execute_result"
    }
   ],
   "source": [
    "# t = 5\n",
    "# (a>t).argmax(axis=-1)\n",
    "\n",
    "a = a.reshape((-1,a.shape[2]))\n",
    "a[np.arange(a.shape[0]),(a>t).argmax(axis=-1)].reshape()"
   ]
  },
  {
   "cell_type": "code",
   "execution_count": null,
   "metadata": {},
   "outputs": [],
   "source": []
  },
  {
   "cell_type": "code",
   "execution_count": 30,
   "metadata": {},
   "outputs": [],
   "source": [
    "tmp = (a>t).all(axis=1)"
   ]
  },
  {
   "cell_type": "code",
   "execution_count": 34,
   "metadata": {},
   "outputs": [
    {
     "data": {
      "text/plain": [
       "array([        12,        150, 9526572000])"
      ]
     },
     "execution_count": 34,
     "metadata": {},
     "output_type": "execute_result"
    }
   ],
   "source": [
    "tmp * a[np.arange(a.shape[0]),-1] + (1-tmp) * a[np.arange(a.shape[0]),(a>t).argmax(axis=1)]"
   ]
  },
  {
   "cell_type": "code",
   "execution_count": 33,
   "metadata": {},
   "outputs": [
    {
     "data": {
      "text/plain": [
       "array([ 12, 150,   0])"
      ]
     },
     "execution_count": 33,
     "metadata": {},
     "output_type": "execute_result"
    }
   ],
   "source": [
    "(1-tmp) * a[np.arange(a.shape[0]),(a>t).argmax(axis=1)]"
   ]
  },
  {
   "cell_type": "code",
   "execution_count": 35,
   "metadata": {},
   "outputs": [
    {
     "data": {
      "text/plain": [
       "2"
      ]
     },
     "execution_count": 35,
     "metadata": {},
     "output_type": "execute_result"
    }
   ],
   "source": [
    "a.ndim"
   ]
  },
  {
   "cell_type": "code",
   "execution_count": 84,
   "metadata": {},
   "outputs": [],
   "source": [
    "gaoling_return = np.array([5,3,3,3,2.5,2,2,2,1.5,0.7]) ### 高瓴股票三年收益乘数的分布估计\n",
    "gaoling_return = np.array([5.5,3,3,2.5,2.5,2,1.8,1.0,0.7,0.5]) ### 高瓴股票三年收益乘数的分布估计\n",
    "# gaoling_return = np.array([5,3.5,2.5,2.5,2.5,1.7,1.8,1.5,1,0.7]) ### 高瓴股票三年收益乘数的分布估计\n",
    "assert gaoling_return.shape == (10,)"
   ]
  },
  {
   "cell_type": "code",
   "execution_count": 85,
   "metadata": {},
   "outputs": [
    {
     "name": "stdout",
     "output_type": "stream",
     "text": [
      "2.25, 1.82, 0.43\n"
     ]
    }
   ],
   "source": [
    "## 算术平均数与几何平均数\n",
    "def f(x):\n",
    "    cal_mu = np.mean(x)\n",
    "    geo_mu = np.power(np.prod(x),1.0/x.shape[0])\n",
    "    print('%.2f, %.2f, %.2f' %(cal_mu, geo_mu, cal_mu-geo_mu)) \n",
    "f(gaoling_return)"
   ]
  },
  {
   "cell_type": "code",
   "execution_count": 83,
   "metadata": {},
   "outputs": [],
   "source": [
    "# def f2(x):\n",
    "#     for i in range(1,20):\n",
    "#         tmp = np.power(x, 1.0/i)\n",
    "#         tmp = np.power(np.mean(tmp),i)\n",
    "#         print('%s:  %.4f' %(str(i).rjust(2,'0'), tmp)) \n",
    "# f2(gaoling_return)"
   ]
  },
  {
   "cell_type": "code",
   "execution_count": 67,
   "metadata": {},
   "outputs": [
    {
     "name": "stdout",
     "output_type": "stream",
     "text": [
      "500     9.13\n",
      "1000     12.9\n",
      "1500     15.81\n",
      "2000     18.25\n",
      "2500     20.41\n"
     ]
    }
   ],
   "source": [
    "#### 多维单位空间任意两点的距离\n",
    "N = 5000#000\n",
    "NN = N*N - N\n",
    "for d in range(500,3000,500):\n",
    "    x = np.random.uniform(size=(N,d))\n",
    "    x1 = np.sum(x*x, axis=1)\n",
    "\n",
    "    res = np.sqrt(x1 + x1[:,np.newaxis] - 2*np.dot(x, x.T) + 1e-8)\n",
    "    res = np.sum(res) / NN\n",
    "    print(d,'   ', round(res,2))"
   ]
  },
  {
   "cell_type": "code",
   "execution_count": 55,
   "metadata": {},
   "outputs": [
    {
     "name": "stdout",
     "output_type": "stream",
     "text": [
      "1     0.95\n",
      "51     0.07\n",
      "101     0.01\n",
      "151     0.0\n",
      "201     0.0\n",
      "251     0.0\n",
      "301     0.0\n",
      "351     0.0\n",
      "401     0.0\n",
      "451     0.0\n",
      "501     0.0\n",
      "551     0.0\n",
      "601     0.0\n",
      "651     0.0\n",
      "701     0.0\n",
      "751     0.0\n",
      "801     0.0\n",
      "851     0.0\n",
      "901     0.0\n",
      "951     0.0\n"
     ]
    }
   ],
   "source": [
    "### 多维空间的任一点更可能在边缘\n",
    "for i in range(1, 1000, 50):\n",
    "    print(i, '   ', round(0.95**i,2))"
   ]
  },
  {
   "cell_type": "code",
   "execution_count": 42,
   "metadata": {
    "scrolled": false
   },
   "outputs": [
    {
     "data": {
      "text/plain": [
       "True"
      ]
     },
     "execution_count": 42,
     "metadata": {},
     "output_type": "execute_result"
    }
   ],
   "source": [
    "tmp = x1 + x1[:,np.newaxis] - 2*np.dot(x, x.T)\n",
    "\n",
    "np.(tmp<0)"
   ]
  },
  {
   "cell_type": "code",
   "execution_count": 65,
   "metadata": {},
   "outputs": [
    {
     "name": "stdout",
     "output_type": "stream",
     "text": [
      "100     0.136\n",
      "200     0.07333\n",
      "300     0.03767\n",
      "400     0.02033\n",
      "500     0.009\n",
      "600     0.007\n",
      "700     0.00433\n",
      "800     0.001\n",
      "900     0.00167\n",
      "1000     0.00067\n",
      "1100     0.0\n",
      "1200     0.00067\n",
      "1300     0.0\n",
      "1400     0.0\n",
      "1500     0.0\n",
      "1600     0.0\n",
      "1700     0.0\n",
      "1800     0.0\n",
      "1900     0.0\n",
      "2000     0.0\n",
      "2100     0.0\n",
      "2200     0.0\n",
      "2300     0.0\n",
      "2400     0.0\n",
      "2500     0.0\n",
      "2600     0.0\n",
      "2700     0.0\n",
      "2800     0.0\n",
      "2900     0.0\n"
     ]
    }
   ],
   "source": [
    "N = 3000\n",
    "prob = 0.55\n",
    "for d in range(100, 3000, 100):\n",
    "    x = np.random.choice([1,-1], size=(N,d), p=[prob, 1-prob])\n",
    "    a = np.mean(x, axis=1)\n",
    "    print(d, '   ',round(np.sum(a<0)/N, 5))\n",
    "    \n",
    "    \n",
    "    #print(N, '   ', round(np.mean(x), 3), '   ',round(np.std(x), 2))"
   ]
  },
  {
   "cell_type": "code",
   "execution_count": null,
   "metadata": {},
   "outputs": [],
   "source": []
  }
 ],
 "metadata": {
  "kernelspec": {
   "display_name": "Python 3",
   "language": "python",
   "name": "python3"
  },
  "language_info": {
   "codemirror_mode": {
    "name": "ipython",
    "version": 3
   },
   "file_extension": ".py",
   "mimetype": "text/x-python",
   "name": "python",
   "nbconvert_exporter": "python",
   "pygments_lexer": "ipython3",
   "version": "3.7.4"
  },
  "toc": {
   "base_numbering": 1,
   "nav_menu": {},
   "number_sections": true,
   "sideBar": true,
   "skip_h1_title": false,
   "title_cell": "Table of Contents",
   "title_sidebar": "Contents",
   "toc_cell": false,
   "toc_position": {},
   "toc_section_display": true,
   "toc_window_display": false
  }
 },
 "nbformat": 4,
 "nbformat_minor": 2
}
