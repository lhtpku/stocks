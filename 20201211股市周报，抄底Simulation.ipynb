{
 "cells": [
  {
   "cell_type": "code",
   "execution_count": 256,
   "metadata": {},
   "outputs": [],
   "source": [
    "import numpy as np\n",
    "np.random.seed(42)\n",
    "simu_times = 50000\n",
    "simu_type = '追热点'"
   ]
  },
  {
   "cell_type": "markdown",
   "metadata": {},
   "source": [
    "# Intuition\n",
    "\n",
    "## 抄底相比于不动：期望收益几乎没什么差距，但抄底拉长来看会导致账户有极大的波动！方差甚至会盖过均值。\n",
    "\n",
    "## 如果有止损线，很容易会导致离场。而且实际上抄底很容易导致被套。"
   ]
  },
  {
   "cell_type": "code",
   "execution_count": 308,
   "metadata": {},
   "outputs": [
    {
     "name": "stdout",
     "output_type": "stream",
     "text": [
      "抄底胜率0.60, 抄底一次期望收益0.04\n"
     ]
    }
   ],
   "source": [
    "chaodi_ret =  [1.30, 1.25, 1.20, 1.10, 0.90, 0.80, 0.75, 0.70]\n",
    "chaodi_prob = [0.05, 0.10, 0.25, 0.30, 0.10, 0.10, 0.05, 0.05]\n",
    "\n",
    "hot_ret =  [1.20, 1.15, 1.1, 1.00, 0.90, 0.8]\n",
    "hot_prob = [0.15, 0.15, 0.3, 0.10, 0.15, 0.15]\n",
    "chaodi_ret = hot_ret\n",
    "chaodi_prob = hot_prob\n",
    "\n",
    "N = len(chaodi_ret)\n",
    "print('抄底胜率%.2f, 抄底一次期望收益%.2f' %(sum(chaodi_prob[i] for i in range(N) if chaodi_ret[i]>1),\n",
    "                                sum(chaodi_prob[i]*chaodi_ret[i] for i in range(N))-1))\n",
    "      \n",
    "chaodi_freq_per_year = 8\n",
    "\n",
    "jianchi_ret =  [4, 3, 2.5, 2.5, 2.5, 2, 1.8, 1.5, 1.2, 0.5]\n",
    "jianchi_prob = [0.1] * 10\n",
    "\n",
    "def assert_func(ret, prob):\n",
    "    assert len(ret)==len(prob) and abs(sum(prob)-1)<1e-5, 'sum(prob)==%.2f'%sum(prob)\n",
    "\n",
    "assert_func(chaodi_ret, chaodi_prob)\n",
    "assert_func(jianchi_ret, jianchi_prob)"
   ]
  },
  {
   "cell_type": "code",
   "execution_count": 309,
   "metadata": {},
   "outputs": [
    {
     "name": "stdout",
     "output_type": "stream",
     "text": [
      "不追热点, 3年     均值2.15, 方差0.33\n",
      "  追热点, 3年     均值2.42, 方差1.22\n",
      "\n",
      "不追热点, 6年     均值5.49, 方差1.51\n",
      "  追热点, 6年     均值5.88, 方差4.66\n",
      "\n",
      "不追热点, 9年     均值15.72, 方差6.33\n",
      "  追热点, 9年     均值14.20, 方差15.24\n",
      "\n",
      "不追热点, 12年     均值48.89, 方差25.88\n",
      "  追热点, 12年     均值34.35, 方差48.42\n",
      "\n",
      "不追热点, 15年     均值161.99, 方差104.65\n",
      "  追热点, 15年     均值83.31, 方差158.11\n",
      "\n"
     ]
    }
   ],
   "source": [
    "for year in [1, 2, 3, 4, 5][:]:\n",
    "    n_stocks_jianchi = 8\n",
    "    n_stocks_test = 2\n",
    "    np.random.seed(42)\n",
    "    years = 3 * year\n",
    "    chaodi_times = chaodi_freq_per_year * years\n",
    "    chaodi = np.random.choice(chaodi_ret, size=(simu_times,n_stocks_test, chaodi_times), p=chaodi_prob)\n",
    "   \n",
    "    jianchi = np.random.choice(jianchi_ret, size=(simu_times,n_stocks_jianchi, 1), p=jianchi_prob)\n",
    "    jianchi = np.tile(jianchi, (1, year))\n",
    "\n",
    "    print('不%s, %s年    '%(simu_type, years), calcu_mu_std(jianchi))\n",
    "    print('  %s, %s年    '%(simu_type, years), calcu_mu_std(chaodi))\n",
    "    print()"
   ]
  },
  {
   "cell_type": "code",
   "execution_count": 234,
   "metadata": {},
   "outputs": [],
   "source": [
    "def calcu_mu_std(X, leverage=1, zhisun=0):\n",
    "    dims = X.ndim\n",
    "    ## 当账户加杠杆，亏完本金则止损\n",
    "    if leverage > 1:\n",
    "        zhisun = leverage - 1\n",
    "        \n",
    "    X = X.cumprod(axis=-1) * leverage\n",
    "    if dims == 2:\n",
    "        X = X[:,np.newaxis,:]\n",
    "    a,b,c = X.shape\n",
    "    X = X.reshape((-1,X.shape[-1]))\n",
    "    condi = (X > zhisun)\n",
    "    tmp = condi.all(axis=-1)\n",
    "    rets = tmp * X[np.arange(X.shape[0]),-1] + (1-tmp) * X[np.arange(X.shape[0]),condi.argmax(axis=-1)]\n",
    "    rets = np.mean(rets.reshape((a,b)), axis=1)\n",
    "    \n",
    "    res = '均值%.2f, 方差%.2f'%(np.mean(rets) - (leverage-1), np.std(rets))\n",
    "    if zhisun > 0:\n",
    "        res = res + ', 止损线%.2f' %zhisun\n",
    "    return res"
   ]
  },
  {
   "cell_type": "code",
   "execution_count": null,
   "metadata": {},
   "outputs": [],
   "source": []
  },
  {
   "cell_type": "code",
   "execution_count": null,
   "metadata": {},
   "outputs": [],
   "source": []
  },
  {
   "cell_type": "code",
   "execution_count": null,
   "metadata": {},
   "outputs": [],
   "source": []
  },
  {
   "cell_type": "code",
   "execution_count": null,
   "metadata": {},
   "outputs": [],
   "source": []
  }
 ],
 "metadata": {
  "kernelspec": {
   "display_name": "Python 3",
   "language": "python",
   "name": "python3"
  },
  "language_info": {
   "codemirror_mode": {
    "name": "ipython",
    "version": 3
   },
   "file_extension": ".py",
   "mimetype": "text/x-python",
   "name": "python",
   "nbconvert_exporter": "python",
   "pygments_lexer": "ipython3",
   "version": "3.7.4"
  },
  "toc": {
   "base_numbering": 1,
   "nav_menu": {},
   "number_sections": true,
   "sideBar": true,
   "skip_h1_title": false,
   "title_cell": "Table of Contents",
   "title_sidebar": "Contents",
   "toc_cell": false,
   "toc_position": {},
   "toc_section_display": true,
   "toc_window_display": false
  }
 },
 "nbformat": 4,
 "nbformat_minor": 2
}
