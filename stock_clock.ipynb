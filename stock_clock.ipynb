{
 "cells": [
  {
   "cell_type": "code",
   "execution_count": 1,
   "metadata": {},
   "outputs": [],
   "source": [
    "from stock_monitor_helper import *\n",
    "import pandas as pd\n",
    "from pandas import DataFrame,Series\n",
    "import tushare as ts\n",
    "ts.set_token('61bd0479a5591b9a4c0112b0255ca10d29aeb1bfc2ea72cec0314725')\n",
    "pro = ts.pro_api('61bd0479a5591b9a4c0112b0255ca10d29aeb1bfc2ea72cec0314725')\n",
    "from datetime import datetime,timedelta\n",
    "from collections import ChainMap\n",
    "%load_ext autoreload\n",
    "%autoreload 2"
   ]
  },
  {
   "cell_type": "code",
   "execution_count": 19,
   "metadata": {},
   "outputs": [],
   "source": [
    "holding_stocks = pd.read_excel('stephen_stocks.xlsx')\n",
    "all_code = dict(holding_stocks.set_index('Code')['Name'])"
   ]
  },
  {
   "cell_type": "code",
   "execution_count": 22,
   "metadata": {},
   "outputs": [
    {
     "name": "stdout",
     "output_type": "stream",
     "text": [
      "20210514 20210514\n"
     ]
    }
   ],
   "source": [
    "today_str = (datetime.now()- pd.tseries.offsets.DateOffset(days=1)).strftime(\"%Y%m%d\")\n",
    "pro = ts.pro_api()\n",
    "Price = pro.daily(ts_code=','.join(all_code.keys()), adj='qfq',\n",
    "                  start_date=today_str, fields='ts_code,trade_date,close')\n",
    "# print(Price['trade_date'].max(), Price['trade_date'].min())\n",
    "Price = Price.sort_values(['ts_code', 'trade_date'])\n",
    "# Price['TodayPct'] = Price['close'] / Price['pre_close'] - 1\n",
    "Price = Price.groupby(['ts_code']).aggregate({'close':'last'}).reset_index()\n",
    "Price.rename(columns={'ts_code':'Code', 'close':'Price'}, inplace=True)"
   ]
  },
  {
   "cell_type": "code",
   "execution_count": 35,
   "metadata": {},
   "outputs": [],
   "source": [
    "df = pd.merge(holding_stocks, Price, on='Code')\n",
    "PRICE = dict(df.set_index('Name')['Price'].map(float))\n",
    "# df"
   ]
  },
  {
   "cell_type": "code",
   "execution_count": 47,
   "metadata": {},
   "outputs": [],
   "source": [
    "def change_stock(stock1, stock2, threshold=5):\n",
    "\ttmp = '\\t%s:%s %s:%s ' %(stock1, stock2, round(PRICE[stock1],2), round(PRICE[stock2],2))\n",
    "\tif PRICE[stock1] > PRICE[stock2] + threshold:\n",
    "\t\ttmp += '可交易 ！！！！！'\n",
    "\telse:\n",
    "\t\ttmp += 'waiting...'\n",
    "\tprint()\n",
    "\tprint(tmp)\n",
    "\n",
    "def buy_stock(stock, threshold):\n",
    "\ttmp = '\\t%s %s ' %(stock, round(threshold,2))\n",
    "\tif PRICE[stock] < threshold:\n",
    "\t\ttmp += '可买入 ！！！！！'\n",
    "\telse:\n",
    "\t\ttmp += 'waiting...'\n",
    "\tprint()\n",
    "\tprint(tmp)\n",
    "\n",
    "def sell_stock(stock, threshold):\n",
    "\ttmp = '\\t%s %s ' %(stock, round(threshold,2))\n",
    "\tif PRICE[stock] > threshold:\n",
    "\t\ttmp += '可卖出 ！！！！！'\n",
    "\telse:\n",
    "\t\ttmp += 'waiting...'\n",
    "\tprint()\n",
    "\tprint(tmp)"
   ]
  },
  {
   "cell_type": "code",
   "execution_count": 54,
   "metadata": {},
   "outputs": [
    {
     "name": "stdout",
     "output_type": "stream",
     "text": [
      "换股:\n",
      "\n",
      "\t泰格医药:药明康德 156.35:153.2 waiting...\n",
      "\n",
      "\t比亚迪:公牛集团 153.53:182.11 waiting...\n",
      "\n",
      "\t海螺水泥:东方雨虹 49.83:55.62 waiting...\n",
      "\n",
      "\t海螺水泥:良品铺子 49.83:49.84 waiting...\n",
      "\n",
      "\t格力电器:东方雨虹 57.74:55.62 waiting...\n",
      "\n",
      "\t格力电器:良品铺子 57.74:49.84 waiting...\n"
     ]
    }
   ],
   "source": [
    "## 换股为主观臆测，用于新进股票\n",
    "print('换股:')\n",
    "change_stock('泰格医药','药明康德',20)\n",
    "change_stock('比亚迪','公牛集团',15)\n",
    "change_stock('海螺水泥','东方雨虹',5) # 2/3\n",
    "change_stock('海螺水泥','良品铺子',5) # 1/2\n",
    "change_stock('格力电器','东方雨虹',15)\n",
    "change_stock('格力电器','良品铺子',15)"
   ]
  },
  {
   "cell_type": "code",
   "execution_count": 55,
   "metadata": {},
   "outputs": [
    {
     "name": "stdout",
     "output_type": "stream",
     "text": [
      "卖出:\n",
      "\n",
      "\t凯莱英 370.7 waiting...\n",
      "\n",
      "\t健帆生物 101.89 waiting...\n"
     ]
    }
   ],
   "source": [
    "## 卖出 -- 破上次新高+10%\n",
    "print('卖出:')\n",
    "sell_stock('凯莱英', 337*1.1)\n",
    "sell_stock('健帆生物', 92.63*1.1)"
   ]
  },
  {
   "cell_type": "code",
   "execution_count": 56,
   "metadata": {},
   "outputs": [
    {
     "name": "stdout",
     "output_type": "stream",
     "text": [
      "买入:\n"
     ]
    }
   ],
   "source": [
    "## 买入 -- 高点回落20%\n",
    "print('买入:')\n",
    "# buy_stock('', '')"
   ]
  },
  {
   "cell_type": "code",
   "execution_count": null,
   "metadata": {},
   "outputs": [],
   "source": []
  },
  {
   "cell_type": "code",
   "execution_count": null,
   "metadata": {},
   "outputs": [],
   "source": []
  },
  {
   "cell_type": "code",
   "execution_count": null,
   "metadata": {},
   "outputs": [],
   "source": []
  }
 ],
 "metadata": {
  "kernelspec": {
   "display_name": "Python 3",
   "language": "python",
   "name": "python3"
  },
  "language_info": {
   "codemirror_mode": {
    "name": "ipython",
    "version": 3
   },
   "file_extension": ".py",
   "mimetype": "text/x-python",
   "name": "python",
   "nbconvert_exporter": "python",
   "pygments_lexer": "ipython3",
   "version": "3.8.3"
  },
  "toc": {
   "base_numbering": 1,
   "nav_menu": {},
   "number_sections": true,
   "sideBar": true,
   "skip_h1_title": false,
   "title_cell": "Table of Contents",
   "title_sidebar": "Contents",
   "toc_cell": false,
   "toc_position": {},
   "toc_section_display": true,
   "toc_window_display": false
  }
 },
 "nbformat": 4,
 "nbformat_minor": 4
}
