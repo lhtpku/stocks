{
 "cells": [
  {
   "cell_type": "code",
   "execution_count": 64,
   "metadata": {},
   "outputs": [
    {
     "name": "stdout",
     "output_type": "stream",
     "text": [
      "期望中签2.83个\n",
      "------------\n",
      "中签0个的概率为0.02\n",
      "中签1个的概率为0.10\n",
      "中签2个的概率为0.26\n",
      "中签3个的概率为0.34\n",
      "中签4个的概率为0.22\n",
      "中签5个的概率为0.06\n"
     ]
    }
   ],
   "source": [
    "prob = [0.565]\n",
    "N = 5\n",
    "\n",
    "from scipy.special import comb, perm\n",
    "import itertools\n",
    "def calu(n, k, p):\n",
    "    return comb(n, k) * (p ** k) * ((1-p) ** (n-k))\n",
    "lst = list(range(N+1))\n",
    "lsts = len(prob) * [lst]\n",
    "res = {k:0 for k in range(len(prob)*N+1)}\n",
    "iters = 0\n",
    "for nums in itertools.product(*lsts):\n",
    "    tmp = 1\n",
    "    for i,num in enumerate(nums):\n",
    "          tmp *= calu(N, num, prob[i])\n",
    "    res[sum(nums)] += tmp\n",
    "expectation = sum(i*j for i,j in res.items())\n",
    "print('期望中签%.2f个' % expectation)\n",
    "print('------------')\n",
    "for i in sorted(res):\n",
    "    print('中签%s个的概率为%.2f' %(i, res[i]))"
   ]
  },
  {
   "cell_type": "code",
   "execution_count": 34,
   "metadata": {},
   "outputs": [
    {
     "name": "stdout",
     "output_type": "stream",
     "text": [
      "1.00\n"
     ]
    }
   ],
   "source": [
    "p = 0.801\n",
    "q = 1 - p\n",
    "N = 1000\n",
    "\n",
    "half_N = int(N/2) + 1\n",
    "tmp = (q ** N)\n",
    "res = tmp\n",
    "\n",
    "for i in range(1, half_N):\n",
    "    tmp *= ((N-i+1)/i) * (p/q)\n",
    "    res += tmp\n",
    "    \n",
    "print('%.2f'%(1-res))"
   ]
  },
  {
   "cell_type": "code",
   "execution_count": null,
   "metadata": {},
   "outputs": [],
   "source": []
  },
  {
   "cell_type": "code",
   "execution_count": null,
   "metadata": {},
   "outputs": [],
   "source": []
  },
  {
   "cell_type": "code",
   "execution_count": null,
   "metadata": {},
   "outputs": [],
   "source": []
  }
 ],
 "metadata": {
  "kernelspec": {
   "display_name": "Python 3",
   "language": "python",
   "name": "python3"
  },
  "language_info": {
   "codemirror_mode": {
    "name": "ipython",
    "version": 3
   },
   "file_extension": ".py",
   "mimetype": "text/x-python",
   "name": "python",
   "nbconvert_exporter": "python",
   "pygments_lexer": "ipython3",
   "version": "3.7.4"
  },
  "toc": {
   "base_numbering": 1,
   "nav_menu": {},
   "number_sections": true,
   "sideBar": true,
   "skip_h1_title": false,
   "title_cell": "Table of Contents",
   "title_sidebar": "Contents",
   "toc_cell": false,
   "toc_position": {},
   "toc_section_display": true,
   "toc_window_display": false
  }
 },
 "nbformat": 4,
 "nbformat_minor": 2
}
