{
 "cells": [
  {
   "cell_type": "code",
   "execution_count": 133,
   "metadata": {},
   "outputs": [],
   "source": [
    "import numpy as np\n",
    "from itertools import permutations\n",
    "from scipy.special import comb, perm"
   ]
  },
  {
   "cell_type": "code",
   "execution_count": 150,
   "metadata": {},
   "outputs": [],
   "source": [
    "def avg_ari(stocks):\n",
    "    return np.mean(stocks)\n",
    "\n",
    "def avg_geo(stocks):\n",
    "    return np.power(np.prod(stocks), 1.0/len(stocks))\n",
    "\n",
    "def lst_map(lst):\n",
    "    return tuple(map(lambda x: '%.2f'%x, lst))\n",
    "\n",
    "def func(stocks, deltas=[1]):\n",
    "    m1 = avg_ari(stocks)\n",
    "    m2 = avg_geo(stocks)\n",
    "    \n",
    "    NN = len(stocks)\n",
    "    nn = len(deltas)\n",
    "    perm_num = int(perm(NN, nn))\n",
    "    \n",
    "    out = np.zeros((perm_num, 6))\n",
    "    out[:,0], out[:,1] = m1, m2\n",
    "    iters = 0\n",
    "    \n",
    "    for target in permutations(list(range(NN)), nn):\n",
    "        tmp = stocks.copy()\n",
    "        for i in range(nn):\n",
    "            tmp[target[i]] *= deltas[i]\n",
    "        out[iters, [2,3]] = [avg_ari(tmp), avg_geo(tmp)]\n",
    "        iters += 1\n",
    "        \n",
    "    out[:, 4] = out[:, 2] - out[:, 0]\n",
    "    out[:, 5] = out[:, 3] - out[:, 1]\n",
    "    avg_tmp = lst_map(list(np.mean(out,axis=0)))\n",
    "    std_tmp = lst_map(list(np.std(out,axis =0)))\n",
    "    print()\n",
    "    print('算术平均%s，扰动后算数平均%s，delta为%s'%avg_tmp[::2])\n",
    "    print('几何平均%s，扰动后几何平均%s，delta为%s'%avg_tmp[1::2])\n",
    "    print('delta之差为%.2f'%(np.mean(out,axis=0)[-2]-np.mean(out,axis=0)[-1]))\n",
    "    print()\n",
    "    print('算术方差%s，扰动后算数方差%s，delta方差为%s'%std_tmp[::2])\n",
    "    print('几何方差%s，扰动后几何方差%s，delta方差为%s'%std_tmp[1::2])\n",
    "    print()"
   ]
  },
  {
   "cell_type": "code",
   "execution_count": 165,
   "metadata": {},
   "outputs": [
    {
     "name": "stdout",
     "output_type": "stream",
     "text": [
      "\n",
      "高瓴理论年化收益0.29, 模拟次数：5040\n",
      "\n",
      "扰动的算数平均1.04，几何平均为0.97\n",
      "\n",
      "算术平均2.17，扰动后算数平均2.20，delta为0.03\n",
      "几何平均1.96，扰动后几何平均1.94，delta为-0.02\n",
      "delta之差为0.05\n",
      "\n",
      "算术方差0.00，扰动后算数方差0.07，delta方差为0.07\n",
      "几何方差0.00，扰动后几何方差0.00，delta方差为0.00\n",
      "\n"
     ]
    }
   ],
   "source": [
    "## rets 为对高瓴股票三年收益乘数分布的估计\n",
    "rets = np.array([4.0,3,2.7,2.5,2.2,2,1.8,1.5,1.25,0.7])\n",
    "\n",
    "## DELTAS为波动：比如DELTAS为四个数，则取组合中的任一四个股票给其对应的波动，观察他们对账户的影响\n",
    "## 最后汇总，计算其均值与方差。\n",
    "DELTAS = np.array([1.5,1.25,0.8,0.6], dtype=float)\n",
    "print()\n",
    "perm_num = int(perm(len(rets), len(DELTAS)))\n",
    "print('高瓴理论年化收益%.2f, 模拟次数：%s' %(np.power(avg_ari(rets), 1/3)-1, perm_num))\n",
    "print()\n",
    "\n",
    "print('扰动的算数平均%s，几何平均为%s' %lst_map([avg_ari(DELTAS), avg_geo(DELTAS)]))\n",
    "func(rets, DELTAS)"
   ]
  },
  {
   "cell_type": "markdown",
   "metadata": {},
   "source": []
  },
  {
   "cell_type": "code",
   "execution_count": null,
   "metadata": {},
   "outputs": [],
   "source": []
  },
  {
   "cell_type": "markdown",
   "metadata": {},
   "source": [
    "# 测试：dX总是比dY大 ！\n",
    "## delta很小 趋于1\n",
    "## delta有单个大值 eg 3\n",
    "## delta有单个小值 eg 0.4\n",
    "## 牛市\n",
    "## 熊市\n",
    "## 正常波动\n",
    "\n",
    "# Intuition\n",
    "## geo极度厌恶小值，对大值的反应也不如arith激烈\n",
    "## geo抗风险能力很弱，有一个股票弄错对结果的影响都很大\n",
    "## dY的std=0，但这也无法弥补dX与dY之间的差距"
   ]
  },
  {
   "cell_type": "code",
   "execution_count": null,
   "metadata": {},
   "outputs": [],
   "source": []
  },
  {
   "cell_type": "code",
   "execution_count": null,
   "metadata": {},
   "outputs": [],
   "source": []
  },
  {
   "cell_type": "code",
   "execution_count": null,
   "metadata": {},
   "outputs": [],
   "source": []
  }
 ],
 "metadata": {
  "kernelspec": {
   "display_name": "Python 3",
   "language": "python",
   "name": "python3"
  },
  "language_info": {
   "codemirror_mode": {
    "name": "ipython",
    "version": 3
   },
   "file_extension": ".py",
   "mimetype": "text/x-python",
   "name": "python",
   "nbconvert_exporter": "python",
   "pygments_lexer": "ipython3",
   "version": "3.7.4"
  },
  "toc": {
   "base_numbering": 1,
   "nav_menu": {},
   "number_sections": true,
   "sideBar": true,
   "skip_h1_title": false,
   "title_cell": "Table of Contents",
   "title_sidebar": "Contents",
   "toc_cell": false,
   "toc_position": {},
   "toc_section_display": true,
   "toc_window_display": false
  }
 },
 "nbformat": 4,
 "nbformat_minor": 2
}
